{
  "nbformat": 4,
  "nbformat_minor": 0,
  "metadata": {
    "colab": {
      "provenance": []
    },
    "kernelspec": {
      "name": "python3",
      "display_name": "Python 3"
    },
    "language_info": {
      "name": "python"
    }
  },
  "cells": [
    {
      "cell_type": "markdown",
      "source": [
        "#Python OOPs Theory Questions"
      ],
      "metadata": {
        "id": "pvrINOjs4Ju6"
      }
    },
    {
      "cell_type": "markdown",
      "source": [
        "1. What is Object-Oriented Programming (OOP)?\n",
        ">- OOPs is a way of organizing code that uses objects and classes to represent real-world entities and their behavior. In OOPs, object has attributes thing that has specific data and can perform certain actions using methods.\n",
        "\n",
        "2. What is a class in OOP?\n",
        ">- A class is like a blueprint or plan for creating objects. Example: If “Car” is a class, it describes what all cars have (color, brand) and can do (start, stop).\n",
        "\n",
        "3. What is an object in OOP?\n",
        ">- An object is a real thing created from a class.  It encapsulates state and behavior, allowing for modular and organized code. If “Car” is the class, then Car(\"BMW\", \"Black\") is an object.\n",
        "\n",
        "4. What is the difference between abstraction and encapsulation?\n",
        ">- Abstraction- Abstraction is process of hiding the implementation details and showing only the functionality to the users.\n",
        "\n",
        "       a)Main feature: reduce complexity, promote maintainability, and also provide clear separation between the interface and its concrete implementation\n",
        "\n",
        "       b)In abstraction, problems are solved at the design or interface level.\n",
        "\n",
        "       c)In abstraction, implementation complexities are hidden using abstract classes and interfaces.\n",
        "\n",
        "\n",
        "      Encapsulation - Encapsulation is a process of binding data and methods together in a single unit, providing controlled access to data.\n",
        "           \n",
        "           a)Main feature: data hiding, providing access control and modularity.\n",
        "\n",
        "          b)While in encapsulation, problems are solved at the implementation level.\n",
        "\n",
        "          c)While encapsulation uses private access modifier to hide the data and use getter and setter to provide controlled access to data.\n",
        "\n",
        "5. What are dunder methods in Python?\n",
        ">- Python Magic methods are the methods starting and ending with double underscores '__'. They are defined by built-in classes in Python and commonly used for operator overloading. They are also called Dunder methods, Dunder here means \"Double Under (Underscores)\".\n",
        "\n",
        "6. Explain the concept of inheritance in OOP.\n",
        ">- Inheritance in object-oriented programming (OOP) is a fundamental concept where a new class (called a subclass, derived class, or child class) is created from an existing class (called a superclass, base class, or parent class). The subclass inherits the properties (attributes) and behaviors (methods) of the parent class, allowing code reuse and the creation of a hierarchical class structure.\n",
        "Example: A “Dog” class can inherit from an “Animal” class and reuse its code.\n",
        "\n",
        "7. What is polymorphism in OOP.\n",
        ">- Polymorphism means same function name, different behavior depending on the object.\n",
        "Example: fly() works differently for a Sparrow and an Airplane.\n",
        "\n",
        "8. How is encapsulation achieved in Python\n",
        ">- We make attributes private using _ or __ before the name, and provide getter/setter methods.\n",
        "\n",
        "9. What is a constructor in Python?\n",
        ">- A constructor (_ init _) is a special method that runs when you create an object, used to set initial values.\n",
        "\n",
        "10. What are class and static methods in Python?\n",
        ">- Class method (@classmethod) = Works with the class itself, not just objects.\n",
        "   \n",
        "    Static method (@staticmethod) = Utility function inside a class, doesn’t depend on object or class.\n",
        "\n",
        "11. What is method overloading in Python?\n",
        ">- Method overloading in Python refers to having multiple methods in a class with the same name but different parameters (in number or type). However, Python does not support method overloading in the traditional sense like Java or C++ because if you define multiple methods with the same name, the last definition overwrites the previous ones.\n",
        "\n",
        "12. What is method overriding in OOP?\n",
        ">- Method overriding in object-oriented programming (OOP) is a feature that allows a subclass (child class) to provide a specific implementation of a method that is already defined in its superclass (parent class). The method in the subclass has the same name, parameters, and return type as the method in the parent class, but it overrides the parent’s version to provide specialized behavior.\n",
        "\n",
        "13. What is a property decorator in Python?\n",
        ">- The property decorator in Python, denoted by @property makes a method act like an attribute it lets you get, set, or delete values like normal variables but with extra control.\n",
        "\n",
        "14. Why is polymorphism important in OOP?\n",
        ">- It makes code flexible and reusable, so one function can work with many object types.\n",
        "\n",
        "15. What is an abstract class in Python?\n",
        ">- In Python, an abstract class is a class that cannot be instantiated on its own and is designed to be a blueprint for other classes. Abstract classes allow us to define methods that must be implemented by subclasses, ensuring a consistent interface while still allowing the subclasses to provide specific implementations.\n",
        "\n",
        "16. Advantages of OOP\n",
        ">-   Advantages of OOP are:\n",
        "\n",
        "    a)Reusability\n",
        "\n",
        "     b)Easy maintenance\n",
        "\n",
        "     c)Better organization\n",
        "\n",
        "    d)Real-world modeling\n",
        "\n",
        "17. Difference between a class variable and an instance variable\n",
        ">- Class variable = Shared by all objects of the class.\n",
        "\n",
        ">- Instance variable = Unique to each object.\n",
        "\n",
        "18. What is multiple inheritance in Python?\n",
        ">- When a class inherits from more than one parent class.\n",
        "\n",
        "19. Explain the purpose of '__str__' and '__repr__' methods in Python.\n",
        ">-\n",
        "     str = User-friendly string (for printing).\n",
        "\n",
        "      repr = Developer-friendly string (for debugging).\n",
        "\n",
        "20. What is the significance of the ‘super()’ function in Python?\n",
        ">- The super() function is a built-in Python utility used primarily in classes that inherit from other classes (i.e., in inheritance scenarios).\n",
        "  \n",
        "  Its main purpose is:\n",
        "\n",
        "  - To Access Parent Class Methods and Properties:\n",
        "    super() allows you to call methods and access properties from a parent (or superclass) directly from within a child (subclass), which helps extend or customize inherited behavior without referring to the parent class by name.\n",
        "\n",
        "  - Simplifies Maintenance:\n",
        "      Because you do not reference the parent class name directly, refactoring becomes easier. If the base class name changes, the code still works without modification.\n",
        "\n",
        "21. What is the significance of the __del__ method in Python ?\n",
        ">- __ del __ is called when an object is deleted, useful for cleanup.\n",
        "\n",
        "22.  What is the difference between @staticmethod and @classmethod in Python?\n",
        ">- @classmethod:\n",
        "   a)Takes the class itself (cls) as its first argument, conventionally named cls.\n",
        "   b)Can access and modify class-level attributes and call other class methods.\n",
        "   c)Is commonly used for factory methods (creating instances of the class in - various ways) or methods that operate on class-level data.\n",
        "\n",
        "- @staticmethod:\n",
        "   a)Does not receive any implicit first argument (neither self nor cls).\n",
        "  b)Cannot access or modify class-level attributes or instance attributes directly.\n",
        "  c)Behaves like a regular function that happens to be defined within a class's namespace.\n",
        "   d)Is typically used for utility functions that logically belong to the class but do not require access to the class's state or instance data.\n",
        "\n",
        "23. How does polymorphism work in Python with inheritance?\n",
        ">- Polymorphism in Python, when combined with inheritance, primarily manifests through method overriding. This allows subclasses to provide their own specific implementation of methods that are already defined in their parent class.\n",
        "\n",
        "Here's how it works:\n",
        "\n",
        "Inheritance:\n",
        "A child class inherits methods and attributes from its parent class. This means the child class initially possesses the same methods as the parent.\n",
        "\n",
        "Method Overriding:\n",
        "If a child class needs to behave differently for a particular method inherited from the parent, it can redefine that method with the same name. This redefinition in the child class \"overrides\" the parent's implementation for objects of the child class.\n",
        "\n",
        "Polymorphic Behavior:\n",
        "When you call this overridden method on an object, Python determines which version of the method to execute based on the actual type of the object, not just its declared type (if applicable). This means you can have a collection of objects of different, but related, types (e.g., a list of Animal objects where some are Dog and some are Cat), and call the same method (e.g., make_sound()) on all of them. Each object will then execute its own specific implementation of make_sound().\n",
        "\n",
        "24. What is method chaining in Python OOP?\n",
        ">- Method chaining in Python object-oriented programming is a technique that allows you to call multiple methods sequentially on the same object in a single line of code. Each method returns the object itself (usually self), enabling the next method call to operate on the same object without breaking the chain.\n",
        "\n",
        "25. What is the purpose of the __call__ method in Python?\n",
        ">- The __ call__ method in Python is a special method that enables instances of a class to be called like functions. When you define a __ call__ method inside a class, you can use an object of that class with parentheses (), just like calling a regular function. This makes the object \"callable\" and adds flexibility in how objects are used.\n",
        "\n",
        "  Purpose and Significance:\n",
        "\n",
        "  a)Make instances behave like functions: You can call an instance directly, and Python will invoke the __ call__ method internally.\n",
        "\n",
        "b)Encapsulate functionality: Allows organizing logic inside objects that can be called with arguments, supporting clean and reusable code.\n",
        "\n",
        "c)Useful for decorators, function objects, and reusable components: You can use __ call__ to create objects that behave as parameterized functions or handlers.\n",
        "\n",
        "d)Supports flexible APIs: Objects with __ call__ can maintain state and still be invoked like simple functions.\n",
        "\n",
        "\n",
        "\n"
      ],
      "metadata": {
        "id": "UkwUgZV34gDS"
      }
    },
    {
      "cell_type": "markdown",
      "source": [
        "#Practical Questions"
      ],
      "metadata": {
        "id": "1ftkjJZ8Vaiq"
      }
    },
    {
      "cell_type": "markdown",
      "source": [
        "1. Create a parent class Animal with a method speak() that prints a generic message. Create a child class Dog\n",
        "that overrides the speak() method to print \"Bark!\"."
      ],
      "metadata": {
        "id": "zKsGHMNDVgy2"
      }
    },
    {
      "cell_type": "code",
      "source": [
        "class Animal:\n",
        "    def speak(self):\n",
        "        print(\"Generic animal sound\")\n",
        "\n",
        "class Dog(Animal):\n",
        "    def speak(self):\n",
        "        print(\"Bark!\")\n",
        "\n",
        "dog = Dog()\n",
        "dog.speak()"
      ],
      "metadata": {
        "colab": {
          "base_uri": "https://localhost:8080/"
        },
        "id": "JLW7Q0IgW9q7",
        "outputId": "63fc9850-6745-46b2-e115-2a25aee9ae5b"
      },
      "execution_count": 1,
      "outputs": [
        {
          "output_type": "stream",
          "name": "stdout",
          "text": [
            "Bark!\n"
          ]
        }
      ]
    },
    {
      "cell_type": "markdown",
      "source": [
        "2. Write a program to create an abstract class Shape with a method area(). Derive classes Circle and Rectangle\n",
        "from it and implement the area() method in both"
      ],
      "metadata": {
        "id": "tmXql0w1XQ2q"
      }
    },
    {
      "cell_type": "code",
      "source": [
        "from abc import ABC, abstractmethod\n",
        "\n",
        "class Shape(ABC):\n",
        "    @abstractmethod\n",
        "    def area(self):\n",
        "        pass\n",
        "class Circle(Shape):\n",
        "    def __init__(self, radius):\n",
        "        self.radius = radius\n",
        "    def area(self):\n",
        "        return 3.14 * self.radius * self.radius\n",
        "class Rectangle(Shape):\n",
        "    def __init__(self, length, width):\n",
        "        self.length = length\n",
        "        self.width = width\n",
        "    def area(self):\n",
        "        return self.length * self.width\n",
        "circle = Circle(5)\n",
        "rectangle = Rectangle(4, 6)\n",
        "print(circle.area())\n",
        "print(rectangle.area())"
      ],
      "metadata": {
        "colab": {
          "base_uri": "https://localhost:8080/"
        },
        "id": "6KZoJ3SvXeYx",
        "outputId": "f6d61314-408c-42ea-92cb-8dcb6cddad83"
      },
      "execution_count": 2,
      "outputs": [
        {
          "output_type": "stream",
          "name": "stdout",
          "text": [
            "78.5\n",
            "24\n"
          ]
        }
      ]
    },
    {
      "cell_type": "markdown",
      "source": [
        "3. Implement a multi-level inheritance scenario where a class Vehicle has an attribute type. Derive a class Car\n",
        "and further derive a class ElectricCar that adds a battery attribute."
      ],
      "metadata": {
        "id": "SXlKad_NYnAl"
      }
    },
    {
      "cell_type": "code",
      "source": [
        "class Vehicle:\n",
        "    def __init__(self, v_type):\n",
        "        self.v_type = v_type\n",
        "\n",
        "    def display_info(self):\n",
        "        print(f\"Vehicle Type: {self.v_type}\")\n",
        "\n",
        "class Car(Vehicle):\n",
        "    def __init__(self, v_type, brand):\n",
        "        super().__init__(v_type)\n",
        "        self.brand = brand\n",
        "\n",
        "    def display_info(self):\n",
        "        super().display_info()\n",
        "        print(f\"Car Brand: {self.brand}\")\n",
        "\n",
        "class ElectricCar(Car):\n",
        "    def __init__(self, v_type, brand, battery_capacity):\n",
        "        super().__init__(v_type, brand)\n",
        "        self.battery_capacity = battery_capacity\n",
        "\n",
        "    def display_info(self):\n",
        "        super().display_info()\n",
        "        print(f\"Battery Capacity: {self.battery_capacity} kWh\")\n",
        "\n",
        "\n",
        "e_car = ElectricCar(\"Four Wheeler\", \"Tesla\", 75)\n",
        "e_car.display_info()\n"
      ],
      "metadata": {
        "colab": {
          "base_uri": "https://localhost:8080/"
        },
        "id": "067TuPdoZBy8",
        "outputId": "7ccdfb82-2649-43ab-b015-3dc0299cf30d"
      },
      "execution_count": 3,
      "outputs": [
        {
          "output_type": "stream",
          "name": "stdout",
          "text": [
            "Vehicle Type: Four Wheeler\n",
            "Car Brand: Tesla\n",
            "Battery Capacity: 75 kWh\n"
          ]
        }
      ]
    },
    {
      "cell_type": "code",
      "execution_count": null,
      "metadata": {
        "id": "e7hlXc4N4Fy8"
      },
      "outputs": [],
      "source": []
    },
    {
      "cell_type": "markdown",
      "source": [
        "4. Demonstrate polymorphism by creating a base class Bird with a method fly(). Create two derived classes\n",
        "Sparrow and Penguin that override the fly() method."
      ],
      "metadata": {
        "id": "e3ZEVbl1bRd5"
      }
    },
    {
      "cell_type": "code",
      "source": [
        "class bird:\n",
        "    def fly(self):\n",
        "        pass\n",
        "class sparrow(bird):\n",
        "    def fly(self):\n",
        "        print(\"Sparrow flying\")\n",
        "class penguin(bird):\n",
        "    def fly(self):\n",
        "        print(\"Penguin cannot fly\")\n",
        "\n",
        "sparrow = sparrow()\n",
        "penguin = penguin()\n",
        "sparrow.fly()\n",
        "penguin.fly()"
      ],
      "metadata": {
        "colab": {
          "base_uri": "https://localhost:8080/"
        },
        "id": "jzhdmSNxbagJ",
        "outputId": "32e91e39-0e97-46ff-df1f-eb49396f7d2a"
      },
      "execution_count": 4,
      "outputs": [
        {
          "output_type": "stream",
          "name": "stdout",
          "text": [
            "Sparrow flying\n",
            "Penguin cannot fly\n"
          ]
        }
      ]
    },
    {
      "cell_type": "markdown",
      "source": [
        "5.  Write a program to demonstrate encapsulation by creating a class BankAccount with private attributes\n",
        "balance and methods to deposit, withdraw, and check balance."
      ],
      "metadata": {
        "id": "V09K_L5yb3KH"
      }
    },
    {
      "cell_type": "code",
      "source": [
        "class BankAccount:\n",
        "    def __init__(self, initial_balance=0.0):\n",
        "        self.__balance = initial_balance  # Private attribute\n",
        "\n",
        "    def deposit(self, amount):\n",
        "        if amount > 0:\n",
        "            self.__balance += amount\n",
        "            print(f\"Deposited ${amount:.2f}\")\n",
        "        else:\n",
        "            print(\"Deposit amount must be positive.\")\n",
        "\n",
        "    def withdraw(self, amount):\n",
        "        if 0 < amount <= self.__balance:\n",
        "            self.__balance -= amount\n",
        "            print(f\"Withdrew ${amount:.2f}\")\n",
        "        elif amount > self.__balance:\n",
        "            print(\"Insufficient balance.\")\n",
        "        else:\n",
        "            print(\"Withdrawal amount must be positive.\")\n",
        "\n",
        "    def get_balance(self):\n",
        "        return self.__balance\n",
        "\n",
        "account = BankAccount(500)\n",
        "account.deposit(250)\n",
        "account.withdraw(100)\n",
        "print(\"Current balance:\", account.get_balance())  # Output: 650.0\n"
      ],
      "metadata": {
        "colab": {
          "base_uri": "https://localhost:8080/"
        },
        "id": "DoViZS-Vb_4u",
        "outputId": "9da46fc3-0537-4b62-e261-6fd5c0136241"
      },
      "execution_count": 5,
      "outputs": [
        {
          "output_type": "stream",
          "name": "stdout",
          "text": [
            "Deposited $250.00\n",
            "Withdrew $100.00\n",
            "Current balance: 650\n"
          ]
        }
      ]
    },
    {
      "cell_type": "markdown",
      "source": [
        "6. Demonstrate runtime polymorphism using a method play() in a base class Instrument. Derive classes Guitar\n",
        "and Piano that implement their own version of play()."
      ],
      "metadata": {
        "id": "8rVLnNVNeWuv"
      }
    },
    {
      "cell_type": "code",
      "source": [
        "class Instrument:\n",
        "    def play(self):\n",
        "        pass\n",
        "class Guitar(Instrument):\n",
        "    def play(self):\n",
        "        print(\"Guitar is playing\")\n",
        "class Piano(Instrument):\n",
        "    def play(self):\n",
        "        print(\"Piano is playing\")\n",
        "\n",
        "\n",
        "guitar=Guitar()\n",
        "piano=Piano()\n",
        "guitar.play()\n",
        "piano.play()"
      ],
      "metadata": {
        "colab": {
          "base_uri": "https://localhost:8080/"
        },
        "id": "PAAdG1jaefAc",
        "outputId": "175c222d-e328-473d-bfa3-8c6cbb0f1d58"
      },
      "execution_count": 6,
      "outputs": [
        {
          "output_type": "stream",
          "name": "stdout",
          "text": [
            "Guitar is playing\n",
            "Piano is playing\n"
          ]
        }
      ]
    },
    {
      "cell_type": "markdown",
      "source": [
        "7. Create a class MathOperations with a class method add_numbers() to add two numbers and a static\n",
        "method subtract_numbers() to subtract two numbers."
      ],
      "metadata": {
        "id": "T9ZdnJX4e2xf"
      }
    },
    {
      "cell_type": "code",
      "source": [
        "class mathoperations:\n",
        "    @classmethod\n",
        "    def add_numbers(cls, a, b):\n",
        "        return a + b\n",
        "    @staticmethod\n",
        "    def subtract_numbers(a, b):\n",
        "        return a - b\n",
        "print(mathoperations.add_numbers(5, 3))\n",
        "print(mathoperations.subtract_numbers(10, 4))"
      ],
      "metadata": {
        "colab": {
          "base_uri": "https://localhost:8080/"
        },
        "id": "98v2_oNFe5iW",
        "outputId": "189d9599-0ee0-41b5-9efb-86ec15f048bc"
      },
      "execution_count": 7,
      "outputs": [
        {
          "output_type": "stream",
          "name": "stdout",
          "text": [
            "8\n",
            "6\n"
          ]
        }
      ]
    },
    {
      "cell_type": "markdown",
      "source": [
        "8.  Implement a class Person with a class method to count the total number of persons created"
      ],
      "metadata": {
        "id": "9-D8SDXafG1X"
      }
    },
    {
      "cell_type": "code",
      "source": [
        "class Person:\n",
        "    count = 0\n",
        "\n",
        "    def __init__(self, name):\n",
        "        self.name = name\n",
        "        Person.count += 1\n",
        "\n",
        "    @classmethod\n",
        "    def total_persons(cls):\n",
        "        return cls.count\n",
        "\n",
        "p1 = Person(\"Bharat\")\n",
        "p2 = Person(\"Kartik\")\n",
        "print(\"Total Persons:\", Person.total_persons())"
      ],
      "metadata": {
        "colab": {
          "base_uri": "https://localhost:8080/"
        },
        "id": "BlVu865LfNiB",
        "outputId": "8eb1bada-7ee0-4851-d7e7-9ae7aac57311"
      },
      "execution_count": 8,
      "outputs": [
        {
          "output_type": "stream",
          "name": "stdout",
          "text": [
            "Total Persons: 2\n"
          ]
        }
      ]
    },
    {
      "cell_type": "markdown",
      "source": [
        "9. Write a class Fraction with attributes numerator and denominator. Override the str method to display the\n",
        "fraction as \"numerator/denominator\"."
      ],
      "metadata": {
        "id": "XxpGR-NXfZTG"
      }
    },
    {
      "cell_type": "code",
      "source": [
        "class Fraction:\n",
        "    def __init__(self, numerator, denominator):\n",
        "        self.numerator = numerator\n",
        "        self.denominator = denominator\n",
        "    def __str__(self):\n",
        "        return f\"{self.numerator}/{self.denominator}\"\n",
        "\n",
        "num = Fraction(3, 4)\n",
        "print(num)"
      ],
      "metadata": {
        "colab": {
          "base_uri": "https://localhost:8080/"
        },
        "id": "8eZYOJnlfrmM",
        "outputId": "bdce4bba-39b0-400e-f7c4-31bb22e01579"
      },
      "execution_count": 9,
      "outputs": [
        {
          "output_type": "stream",
          "name": "stdout",
          "text": [
            "3/4\n"
          ]
        }
      ]
    },
    {
      "cell_type": "markdown",
      "source": [
        "10. Demonstrate operator overloading by creating a class Vector and overriding the add method to add two\n",
        "vectors."
      ],
      "metadata": {
        "id": "UVDuCfj9fuf5"
      }
    },
    {
      "cell_type": "code",
      "source": [
        "class Vector:\n",
        "    def __init__(self, x, y):\n",
        "        self.x = x\n",
        "        self.y = y\n",
        "\n",
        "    def __add__(self, other):\n",
        "        return Vector(self.x + other.x, self.y + other.y)\n",
        "\n",
        "    def __str__(self):\n",
        "        return f\"({self.x}, {self.y})\"\n",
        "\n",
        "v1 = Vector(1, 2)\n",
        "v2 = Vector(3, 4)\n",
        "print(v1 + v2)"
      ],
      "metadata": {
        "colab": {
          "base_uri": "https://localhost:8080/"
        },
        "id": "x-rMPL-Df0mk",
        "outputId": "cd5e0368-1a85-46d3-cb62-0391a8516c9d"
      },
      "execution_count": 10,
      "outputs": [
        {
          "output_type": "stream",
          "name": "stdout",
          "text": [
            "(4, 6)\n"
          ]
        }
      ]
    },
    {
      "cell_type": "markdown",
      "source": [
        "11. Create a class Person with attributes name and age. Add a method greet() that prints \"Hello, my name is\n",
        "{name} and I am {age} years old.\""
      ],
      "metadata": {
        "id": "Pq1GUMtUf87T"
      }
    },
    {
      "cell_type": "code",
      "source": [
        "class Person:\n",
        "    def __init__(self, name, age):\n",
        "        self.name = name\n",
        "        self.age = age\n",
        "\n",
        "    def greet(self):\n",
        "        print(f\"Hello, my name is {self.name} and I am {self.age} years old.\")\n",
        "\n",
        "p = Person(\"anand\", 24)\n",
        "p.greet()"
      ],
      "metadata": {
        "colab": {
          "base_uri": "https://localhost:8080/"
        },
        "id": "6JlUVw5ogGE-",
        "outputId": "23fe846f-dd23-4ef8-d328-a5e79127282e"
      },
      "execution_count": 12,
      "outputs": [
        {
          "output_type": "stream",
          "name": "stdout",
          "text": [
            "Hello, my name is anand and I am 24 years old.\n"
          ]
        }
      ]
    },
    {
      "cell_type": "markdown",
      "source": [
        "12. Implement a class Student with attributes name and grades. Create a method average_grade() to compute\n",
        "the average of the grades."
      ],
      "metadata": {
        "id": "FpW06YLLgYPM"
      }
    },
    {
      "cell_type": "code",
      "source": [
        "class Student:\n",
        "    def __init__(self, name, grades):\n",
        "        self.name = name\n",
        "        self.grades = grades\n",
        "\n",
        "    def average_grade(self):\n",
        "        return sum(self.grades) / len(self.grades)\n",
        "\n",
        "s = Student(\"Anand\", [85, 90, 78])\n",
        "print(\"Average Grade:\", s.average_grade())"
      ],
      "metadata": {
        "colab": {
          "base_uri": "https://localhost:8080/"
        },
        "id": "-GrklDjmglvI",
        "outputId": "f4661a65-8f11-4996-d951-71c460c39d7e"
      },
      "execution_count": 14,
      "outputs": [
        {
          "output_type": "stream",
          "name": "stdout",
          "text": [
            "Average Grade: 84.33333333333333\n"
          ]
        }
      ]
    },
    {
      "cell_type": "markdown",
      "source": [
        "13. Create a class Rectangle with methods set_dimensions() to set the dimensions and area() to calculate the\n",
        "area."
      ],
      "metadata": {
        "id": "_QsD6grng-9S"
      }
    },
    {
      "cell_type": "code",
      "source": [
        "class Rectangle:\n",
        "    def set_dimensions(self, length, width):\n",
        "        self.length = length\n",
        "        self.width = width\n",
        "\n",
        "    def area(self):\n",
        "        return self.length * self.width\n",
        "\n",
        "r = Rectangle()\n",
        "r.set_dimensions(4, 5)\n",
        "print(\"Area:\", r.area())"
      ],
      "metadata": {
        "colab": {
          "base_uri": "https://localhost:8080/"
        },
        "id": "WigzI6FMhGrS",
        "outputId": "9968818a-c4e9-427c-be61-54f31b8582d4"
      },
      "execution_count": 15,
      "outputs": [
        {
          "output_type": "stream",
          "name": "stdout",
          "text": [
            "Area: 20\n"
          ]
        }
      ]
    },
    {
      "cell_type": "markdown",
      "source": [
        "14. Create a class Employee with a method calculate_salary() that computes the salary based on hours worked\n",
        "and hourly rate. Create a derived class Manager that adds a bonus to the salary."
      ],
      "metadata": {
        "id": "HLURkCFfhQrq"
      }
    },
    {
      "cell_type": "code",
      "source": [
        "class Employee:\n",
        "    def __init__(self, hours, rate):\n",
        "        self.hours = hours\n",
        "        self.rate = rate\n",
        "\n",
        "    def calculate_salary(self):\n",
        "        return self.hours * self.rate\n",
        "\n",
        "class Manager(Employee):\n",
        "    def __init__(self, hours, rate, bonus):\n",
        "        super().__init__(hours, rate)\n",
        "        self.bonus = bonus\n",
        "\n",
        "    def calculate_salary(self):\n",
        "        return super().calculate_salary() + self.bonus\n",
        "\n",
        "m = Manager(40, 50, 500)\n",
        "print(\"Manager Salary:\", m.calculate_salary())"
      ],
      "metadata": {
        "colab": {
          "base_uri": "https://localhost:8080/"
        },
        "id": "Xq4_EeYuhWlh",
        "outputId": "99109486-9cb6-4680-bd17-c9a256664efd"
      },
      "execution_count": 16,
      "outputs": [
        {
          "output_type": "stream",
          "name": "stdout",
          "text": [
            "Manager Salary: 2500\n"
          ]
        }
      ]
    },
    {
      "cell_type": "markdown",
      "source": [
        "15. Create a class Product with attributes name, price, and quantity. Implement a method total_price() that\n",
        "calculates the total price of the product."
      ],
      "metadata": {
        "id": "Gh_-uh1jhoKx"
      }
    },
    {
      "cell_type": "code",
      "source": [
        "class Product:\n",
        "    def __init__(self, name, price, qty):\n",
        "        self.name = name\n",
        "        self.price = price\n",
        "        self.qty = qty\n",
        "\n",
        "    def total_price(self):\n",
        "        return self.price * self.qty\n",
        "\n",
        "p = Product(\"Laptop\", 50000, 2)\n",
        "print(\"Total Price:\", p.total_price())"
      ],
      "metadata": {
        "colab": {
          "base_uri": "https://localhost:8080/"
        },
        "id": "V0mN1AF9humu",
        "outputId": "3456312f-5119-43a5-a150-5b658b0cd283"
      },
      "execution_count": 17,
      "outputs": [
        {
          "output_type": "stream",
          "name": "stdout",
          "text": [
            "Total Price: 100000\n"
          ]
        }
      ]
    },
    {
      "cell_type": "markdown",
      "source": [
        "16. Create a class Animal with an abstract method sound(). Create two derived classes Cow and Sheep that\n",
        "implement the sound() method."
      ],
      "metadata": {
        "id": "35U9DHzIh43-"
      }
    },
    {
      "cell_type": "code",
      "source": [
        "from abc import ABC, abstractmethod\n",
        "\n",
        "class Animal(ABC):\n",
        "    @abstractmethod\n",
        "    def sound(self):\n",
        "        pass\n",
        "\n",
        "class Cow(Animal):\n",
        "    def sound(self):\n",
        "        print(\"Moo\")\n",
        "\n",
        "class Sheep(Animal):\n",
        "    def sound(self):\n",
        "        print(\"Baa\")\n",
        "\n",
        "animals = [Cow(), Sheep()]\n",
        "for a in animals:\n",
        "    a.sound()"
      ],
      "metadata": {
        "colab": {
          "base_uri": "https://localhost:8080/"
        },
        "id": "aoRjgPrth_gP",
        "outputId": "318d807f-3a42-4193-b144-3f688e402df9"
      },
      "execution_count": 18,
      "outputs": [
        {
          "output_type": "stream",
          "name": "stdout",
          "text": [
            "Moo\n",
            "Baa\n"
          ]
        }
      ]
    },
    {
      "cell_type": "markdown",
      "source": [
        "17. Create a class Book with attributes title, author, and year_published. Add a method get_book_info() that\n",
        "returns a formatted string with the book's details."
      ],
      "metadata": {
        "id": "C4O_AyaniX3k"
      }
    },
    {
      "cell_type": "code",
      "source": [
        "class Book:\n",
        "    def __init__(self, title, author, year_published):\n",
        "        self.title = title\n",
        "        self.author = author\n",
        "        self.year_published = year_published\n",
        "\n",
        "    def get_book_info(self):\n",
        "        return f\"'{self.title}' by {self.author}, published in {self.year_published}\"\n",
        "\n",
        "\n",
        "# Example usage\n",
        "book1 = Book(\"Learning Python\", \"Mark Lutz\", 2013)\n",
        "book2 = Book(\"Head First Python\", \"Paul Barry\", 2016)\n",
        "\n",
        "print(book1.get_book_info())\n",
        "print(book2.get_book_info())\n"
      ],
      "metadata": {
        "colab": {
          "base_uri": "https://localhost:8080/"
        },
        "id": "vXEodvNAifxl",
        "outputId": "b4fb2bfd-bc8e-4588-d09e-46da331c55e6"
      },
      "execution_count": 19,
      "outputs": [
        {
          "output_type": "stream",
          "name": "stdout",
          "text": [
            "'Learning Python' by Mark Lutz, published in 2013\n",
            "'Head First Python' by Paul Barry, published in 2016\n"
          ]
        }
      ]
    },
    {
      "cell_type": "markdown",
      "source": [
        "18. Create a class House with attributes address and price. Create a derived class Mansion that adds an\n",
        "attribute number_of_rooms."
      ],
      "metadata": {
        "id": "d1cntIakjmJm"
      }
    },
    {
      "cell_type": "code",
      "source": [
        "class House:\n",
        "    def __init__(self, address, price):\n",
        "        self.address = address\n",
        "        self.price = price\n",
        "class Mansion(House):\n",
        "    def __init__(self, address, price, number_of_rooms):\n",
        "        super().__init__(address, price)\n",
        "        self.number_of_rooms = number_of_rooms\n",
        "\n",
        "mansion = Mansion(\"Noida\", 500000, 4)\n",
        "print(f\"Address: {mansion.address}\")\n",
        "print(f\"Price: ${mansion.price}\")\n",
        "print(f\"Number of Rooms: {mansion.number_of_rooms}\")"
      ],
      "metadata": {
        "colab": {
          "base_uri": "https://localhost:8080/"
        },
        "id": "o4BU4_VhjsTe",
        "outputId": "62944b48-9e93-417b-b83a-2ea4388867cf"
      },
      "execution_count": 22,
      "outputs": [
        {
          "output_type": "stream",
          "name": "stdout",
          "text": [
            "Address: Noida\n",
            "Price: $500000\n",
            "Number of Rooms: 4\n"
          ]
        }
      ]
    }
  ]
}